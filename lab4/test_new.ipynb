{
 "cells": [
  {
   "cell_type": "code",
   "execution_count": 1,
   "metadata": {},
   "outputs": [],
   "source": [
    "import cv2\n",
    "import numpy as np\n",
    "from matplotlib import pyplot as plt\n",
    "import time"
   ]
  },
  {
   "cell_type": "markdown",
   "metadata": {
    "pycharm": {
     "name": "#%% md\n"
    }
   },
   "source": [
    "# Зчитуємо зображення для детекту і зображення для заповнення"
   ]
  },
  {
   "cell_type": "code",
   "execution_count": 16,
   "metadata": {
    "pycharm": {
     "name": "#%%\n"
    }
   },
   "outputs": [],
   "source": [
    "cap = cv2.VideoCapture(0)\n",
    "img_rafael = cv2.imread('1.jpg')\n",
    "img_dragon = cv2.imread('2.jpg')\n",
    "\n",
    "img_warp_rafael = cv2.imread('3.jpg')\n",
    "img_warp_dragon = cv2.imread('4.jpg')\n"
   ]
  },
  {
   "cell_type": "markdown",
   "metadata": {},
   "source": [
    "# Тут обраховуємо ключові точки"
   ]
  },
  {
   "cell_type": "code",
   "execution_count": 3,
   "metadata": {
    "pycharm": {
     "name": "#%%\n"
    }
   },
   "outputs": [],
   "source": [
    "hT,wT,cT = img_rafael.shape\n",
    "\n",
    "sift = cv2.SIFT_create(nfeatures=1000)\n",
    "kp_rafael, des_rafael = sift.detectAndCompute(img_rafael,None)\n",
    "kp_dragon, des_dragon = sift.detectAndCompute(img_dragon, None)"
   ]
  },
  {
   "cell_type": "markdown",
   "metadata": {},
   "source": [
    "# Це потрібно для матчінгу"
   ]
  },
  {
   "cell_type": "code",
   "execution_count": 4,
   "metadata": {
    "pycharm": {
     "name": "#%%\n"
    }
   },
   "outputs": [],
   "source": [
    "FLANN_INDEX_KDTREE = 1\n",
    "index_params = dict(algorithm = FLANN_INDEX_KDTREE, trees = 5)\n",
    "search_params = dict(checks = 50)\n",
    "\n",
    "flann = cv2.FlannBasedMatcher(index_params, search_params)"
   ]
  },
  {
   "cell_type": "markdown",
   "metadata": {
    "pycharm": {
     "name": "#%% md\n"
    }
   },
   "source": [
    "# А ось тут веселість. Починаємо зчитувати кадри з вебки."
   ]
  },
  {
   "cell_type": "code",
   "execution_count": 7,
   "metadata": {
    "pycharm": {
     "name": "#%%\n"
    }
   },
   "outputs": [],
   "source": [
    "frame_width = cap.get(cv2.CAP_PROP_FRAME_WIDTH)\n",
    "frame_height = cap.get(cv2.CAP_PROP_FRAME_HEIGHT)"
   ]
  },
  {
   "cell_type": "code",
   "execution_count": 17,
   "metadata": {
    "pycharm": {
     "name": "#%%\n"
    }
   },
   "outputs": [],
   "source": [
    "\n",
    "fourcc = cv2.VideoWriter_fourcc(*'XVID')\n",
    "out_without = cv2.VideoWriter('out_without1.avi', fourcc = fourcc, fps=30, frameSize=(int(frame_width),int(frame_height)))\n",
    "out_with = cv2.VideoWriter('outpy_with1.avi', fourcc, 30, (int(frame_width),int(frame_height)))\n",
    "\n",
    "while True:\n",
    "\n",
    "    sucess, imgWebcam = cap.read()\n",
    "    if sucess == False:\n",
    "        print('Error sucess')\n",
    "        break\n",
    "\n",
    "    imgAug = imgWebcam.copy()\n",
    "    # обраховуємо ключові точки\n",
    "    kp_webcam, des_webcam = sift.detectAndCompute(imgWebcam, None)\n",
    "    try:\n",
    "        # тут шукаємо співпадіння\n",
    "        matches_rafael = flann.knnMatch(des_rafael, des_webcam, k=2)\n",
    "        matches_dragon = flann.knnMatch(des_dragon, des_webcam, k=2)\n",
    "    except:\n",
    "        cv2.imshow('maskNew', imgWebcam)\n",
    "        out_without.write(imgWebcam)\n",
    "        continue\n",
    "\n",
    "    good_rafael =[]\n",
    "    good_dragon = []\n",
    "\n",
    "    # вибираємо особливі\n",
    "    for m,n in matches_rafael:\n",
    "        if m.distance < 0.75*n.distance:\n",
    "            good_rafael.append(m)\n",
    "\n",
    "    for m,n in matches_dragon:\n",
    "        if m.distance < 0.75*n.distance:\n",
    "            good_dragon.append(m)\n",
    "\n",
    "    # ось ту відбувається примітивна класифікація\n",
    "    if len(good_rafael) > len(good_dragon) and len(good_rafael) > 50:\n",
    "        try:\n",
    "            # вибираємо точки\n",
    "            srcPts = np.float32([kp_rafael[m.queryIdx].pt for m in good_rafael]).reshape(-1, 1, 2)\n",
    "            dstPts = np.float32([kp_webcam[m.trainIdx].pt for m in good_rafael]).reshape(-1, 1, 2)\n",
    "            # шукаємо матрицю для перетворення зображення в ту саму форму\n",
    "            matrix, mask = cv2.findHomography(srcPts,dstPts,cv2.RANSAC,5)\n",
    "\n",
    "            # ця штука потрібна для маски. Так би мовити готовимо холст\n",
    "            pts = np.float32([[0,0],[0,hT],[wT,hT],[wT,0]]).reshape(-1,1,2)\n",
    "            dst = cv2.perspectiveTransform(pts,matrix)\n",
    "\n",
    "            # готуємо нове зображення для заповнення\n",
    "            imgWarp = cv2.warpPerspective(img_warp_rafael, matrix, (imgWebcam.shape[1],imgWebcam.shape[0]))\n",
    "\n",
    "            # створюємо маску для вирізу старого зображення і вставки нового\n",
    "            maskNew = np.zeros((imgWebcam.shape[0],imgWebcam.shape[1]),np.uint8)\n",
    "            cv2.fillPoly(maskNew,[np.int32(dst)],(255,255,255))\n",
    "            maskInv = cv2.bitwise_not(maskNew)\n",
    "            # вирізаємо\n",
    "            imgAug = cv2.bitwise_and(imgAug, imgAug, mask = maskInv)\n",
    "            # вставляємо\n",
    "            imgAug = cv2.bitwise_or(imgWarp,imgAug)\n",
    "\n",
    "            # демонструємо перетворене зображення\n",
    "            cv2.imshow('maskNew', imgAug)\n",
    "            out_with.write(imgAug)\n",
    "            out_without.write(imgWebcam)\n",
    "\n",
    "            # для виходу q\n",
    "            if cv2.waitKey(1) & 0xFF == ord('q'):\n",
    "                break\n",
    "        except:\n",
    "            cv2.imshow('maskNew', imgWebcam)\n",
    "            out_without.write(imgWebcam)\n",
    "            continue\n",
    "    elif len(good_rafael) < len(good_dragon) and len(good_dragon) > 50:\n",
    "        try:\n",
    "            detection = True\n",
    "            # вибираємо точки\n",
    "            srcPts = np.float32([kp_dragon[m.queryIdx].pt for m in good_dragon]).reshape(-1, 1, 2)\n",
    "            dstPts = np.float32([kp_webcam[m.trainIdx].pt for m in good_dragon]).reshape(-1, 1, 2)\n",
    "            # шукаємо матрицю для перетворення зображення в ту саму форму\n",
    "            matrix, mask = cv2.findHomography(srcPts,dstPts,cv2.RANSAC,5)\n",
    "\n",
    "            # ця штука потрібна для маски. Так би мовити готовимо холст\n",
    "            pts = np.float32([[0,0],[0,hT],[wT,hT],[wT,0]]).reshape(-1,1,2)\n",
    "            dst = cv2.perspectiveTransform(pts,matrix)\n",
    "\n",
    "            # готуємо нове зображення для заповнення\n",
    "            imgWarp = cv2.warpPerspective(img_warp_dragon, matrix, (imgWebcam.shape[1],imgWebcam.shape[0]))\n",
    "\n",
    "            # створюємо маску для вирізу старого зображення і вставки нового\n",
    "            maskNew = np.zeros((imgWebcam.shape[0],imgWebcam.shape[1]),np.uint8)\n",
    "            cv2.fillPoly(maskNew,[np.int32(dst)],(255,255,255))\n",
    "            maskInv = cv2.bitwise_not(maskNew)\n",
    "            # вирізаємо\n",
    "            imgAug = cv2.bitwise_and(imgAug, imgAug, mask = maskInv)\n",
    "            # вставляємо\n",
    "            imgAug = cv2.bitwise_or(imgWarp,imgAug)\n",
    "            # демонструємо перетворене зображення\n",
    "            cv2.imshow('maskNew', imgAug)\n",
    "            out_with.write(imgAug)\n",
    "            out_without.write(imgWebcam)\n",
    "            # для виходу q\n",
    "            if cv2.waitKey(1) & 0xFF == ord('q'):\n",
    "                break\n",
    "        except:\n",
    "            cv2.imshow('maskNew', imgWebcam)\n",
    "            out_without.write(imgWebcam)\n",
    "            continue\n",
    "    else:\n",
    "        cv2.imshow('maskNew', imgWebcam)\n",
    "        out_with.write(imgAug)\n",
    "        out_without.write(imgWebcam)\n",
    "        # для виходу q\n",
    "        if cv2.waitKey(1) & 0xFF == ord('q'):\n",
    "            break\n"
   ]
  },
  {
   "cell_type": "code",
   "execution_count": 18,
   "metadata": {
    "pycharm": {
     "name": "#%%\n"
    }
   },
   "outputs": [],
   "source": [
    "cap.release()\n",
    "out_without.release()\n",
    "out_with.release()\n",
    "cv2.destroyAllWindows()"
   ]
  },
  {
   "cell_type": "code",
   "execution_count": 13,
   "metadata": {
    "pycharm": {
     "name": "#%%\n"
    }
   },
   "outputs": [],
   "source": []
  }
 ],
 "metadata": {
  "kernelspec": {
   "display_name": "Python 3",
   "language": "python",
   "name": "python3"
  },
  "language_info": {
   "codemirror_mode": {
    "name": "ipython",
    "version": 3
   },
   "file_extension": ".py",
   "mimetype": "text/x-python",
   "name": "python",
   "nbconvert_exporter": "python",
   "pygments_lexer": "ipython3",
   "version": "3.8.3"
  }
 },
 "nbformat": 4,
 "nbformat_minor": 1
}